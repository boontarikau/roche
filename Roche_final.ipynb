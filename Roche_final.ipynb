{
  "cells": [
    {
      "cell_type": "markdown",
      "metadata": {
        "id": "F5WyZVCIW79e"
      },
      "source": [
        "# Understanding and Cleaning the data"
      ]
    },
    {
      "cell_type": "code",
      "execution_count": null,
      "metadata": {
        "id": "qSvTHYolW6C3"
      },
      "outputs": [],
      "source": [
        "import pandas as pd\n",
        "import numpy as np\n",
        "import matplotlib.pyplot as plt\n",
        "import seaborn as sns"
      ]
    },
    {
      "cell_type": "code",
      "execution_count": null,
      "metadata": {
        "id": "70ez11kinvvk"
      },
      "outputs": [],
      "source": [
        "sales = pd.read_csv('/content/drive/MyDrive/term3/my project/raw data/View_Sales (PSP)_Migrated Data_raw data.csv')"
      ]
    },
    {
      "cell_type": "code",
      "execution_count": null,
      "metadata": {
        "id": "EXx5-mssEaVR"
      },
      "outputs": [],
      "source": [
        "sales.head()"
      ]
    },
    {
      "cell_type": "code",
      "execution_count": null,
      "metadata": {
        "id": "pU_B6N19ecJt"
      },
      "outputs": [],
      "source": [
        "sales_copy = sales.copy()"
      ]
    },
    {
      "cell_type": "code",
      "execution_count": null,
      "metadata": {
        "id": "OPfryyQyE97t"
      },
      "outputs": [],
      "source": [
        "# replace \"\" in each column with \"_\" and all of them are in lower case for easy understaning\n",
        "sales_copy.columns = [col.replace(' ', '_').lower() for col in sales_copy.columns]"
      ]
    },
    {
      "cell_type": "code",
      "execution_count": null,
      "metadata": {
        "id": "vGKFB1uaFRur"
      },
      "outputs": [],
      "source": [
        "sales_copy.info()"
      ]
    },
    {
      "cell_type": "code",
      "execution_count": null,
      "metadata": {
        "id": "_HGV2wMToED6"
      },
      "outputs": [],
      "source": [
        "#change date column into date time format\n",
        "sales_copy.date = pd.to_datetime(sales_copy.date)\n",
        "sales_copy.date.head()"
      ]
    },
    {
      "cell_type": "code",
      "execution_count": null,
      "metadata": {
        "id": "hpWHcCIYFLCR"
      },
      "outputs": [],
      "source": [
        "#remove 'blank','path','zero','densificator' columns>>> did not have any meaning\n",
        "sales_copy = sales_copy.drop(['blank', 'path', 'zero','densificator','number_of_records','sales_in_seleted_currency','business_unit_1','business_unit_2','business_unit_3','business_unit_4','business_unit_5'], axis=1)"
      ]
    },
    {
      "cell_type": "code",
      "execution_count": null,
      "metadata": {
        "id": "DLvRr8D1f5j_"
      },
      "outputs": [],
      "source": [
        "sales_copy.columns"
      ]
    },
    {
      "cell_type": "code",
      "execution_count": null,
      "metadata": {
        "id": "KlTglLpZHRRq"
      },
      "outputs": [],
      "source": [
        "# Fill NaN values in the 'incomes' column with 0\n",
        "# Replace empty strings in the 'incomes' column with 0\n",
        "sales_copy['incomes'] = sales_copy['incomes'].fillna(0)\n",
        "sales_copy['incomes'] = sales_copy['incomes'].replace('', 0)"
      ]
    },
    {
      "cell_type": "code",
      "execution_count": null,
      "metadata": {
        "id": "CxBfJ3-R1Rkh"
      },
      "outputs": [],
      "source": [
        "# Fill NaN values in the 'returns' column with 0\n",
        "# Replace empty strings in the 'incomes' column with 0\n",
        "sales_copy['returns'] = sales_copy['returns'].fillna(0)\n",
        "sales_copy['returns'] = sales_copy['returns'].replace('', 0)"
      ]
    },
    {
      "cell_type": "markdown",
      "metadata": {
        "id": "ZspVeJ2mWx1Q"
      },
      "source": [
        "#Data pre-processing"
      ]
    },
    {
      "cell_type": "code",
      "execution_count": null,
      "metadata": {
        "id": "qsaK_yIcmb_A"
      },
      "outputs": [],
      "source": [
        "# Convert categorical data to numeric using label encoding\n",
        "sales_encoded = sales_copy\n",
        "\n",
        "# You can use a mapping or LabelEncoder for this\n",
        "for col in sales_encoded.select_dtypes(include=['object']).columns:\n",
        "    sales_encoded[col] = sales_encoded[col].astype('category').cat.codes\n",
        "\n",
        "# Now, calculate the correlation matrix\n",
        "correlation_matrix = sales_encoded.corr()\n",
        "\n",
        "# Visualize the heatmap with encoded non-numeric data\n",
        "plt.figure(figsize=(20, 20))\n",
        "sns.heatmap(correlation_matrix, annot=True, cmap='coolwarm', fmt=\".2f\")\n",
        "plt.title('Correlation Matrix (with Encoded Categorical Data)')\n",
        "plt.show()\n"
      ]
    },
    {
      "cell_type": "markdown",
      "metadata": {
        "id": "4ST19p5gWrLZ"
      },
      "source": [
        "# Data Modeling"
      ]
    },
    {
      "cell_type": "code",
      "execution_count": null,
      "metadata": {
        "id": "2zUVz_V7h0g3"
      },
      "outputs": [],
      "source": [
        "# take incomes,returns, type as X and sales_m.usd as y\n",
        "\n",
        "X = sales_encoded[['incomes', 'returns', 'type','year','month']]\n",
        "y = sales_encoded['sales_m.usd']"
      ]
    },
    {
      "cell_type": "code",
      "execution_count": null,
      "metadata": {
        "id": "Y_4wSgXziCsU"
      },
      "outputs": [],
      "source": [
        "# prompt: split my data set with test size as 0.2\n",
        "\n",
        "from sklearn.model_selection import train_test_split\n",
        "\n",
        "X_train, X_test, y_train, y_test = train_test_split(X, y, test_size=0.2, random_state=42)"
      ]
    },
    {
      "cell_type": "markdown",
      "metadata": {
        "id": "S_e__6GlWoZZ"
      },
      "source": [
        "Random forest regression"
      ]
    },
    {
      "cell_type": "code",
      "execution_count": null,
      "metadata": {
        "id": "JjjWS38ziKpZ"
      },
      "outputs": [],
      "source": [
        "# prompt: now create Random forest regression model and give me the mean square error , mean absolute error, r - square\n",
        "\n",
        "from sklearn.ensemble import RandomForestRegressor\n",
        "from sklearn.metrics import mean_squared_error, mean_absolute_error, r2_score\n",
        "\n",
        "# Create a Random Forest Regression model\n",
        "model = RandomForestRegressor(n_estimators=100, random_state=42)\n",
        "\n",
        "# Train the model\n",
        "model.fit(X_train, y_train)\n",
        "\n",
        "# Make predictions on the test set\n",
        "y_pred = model.predict(X_test)\n",
        "\n",
        "# Calculate evaluation metrics\n",
        "mse = mean_squared_error(y_test, y_pred)\n",
        "mae = mean_absolute_error(y_test, y_pred)\n",
        "r2 = r2_score(y_test, y_pred)\n",
        "\n",
        "print(f\"Mean Squared Error (MSE): {mse}\")\n",
        "print(f\"Mean Absolute Error (MAE): {mae}\")\n",
        "print(f\"R-squared (R2): {r2}\")"
      ]
    },
    {
      "cell_type": "code",
      "execution_count": null,
      "metadata": {
        "id": "Kbjlj9sAJaQA"
      },
      "outputs": [],
      "source": [
        "# Create a DataFrame for the next year's projections\n",
        "next_year = pd.DataFrame({\n",
        "    'year': [sales_encoded['year'].max() + 1] * 12,  # Next year's value\n",
        "    'month': list(range(1, 13)),  # Months 1 to 12\n",
        "    'incomes': [sales_encoded['incomes'].mean()] * 12,\n",
        "    'returns': [sales_encoded['returns'].mean()] * 12,\n",
        "    'type': [sales_encoded['type'].mode()[0]] * 12\n",
        "})\n",
        "\n",
        "# Reorder columns to match training data\n",
        "next_year = next_year.reindex(columns=['incomes', 'returns', 'type', 'year', 'month'])\n",
        "\n",
        "# Make predictions using the trained model\n",
        "projections = model.predict(next_year)\n",
        "\n",
        "# Add the projections to the DataFrame\n",
        "next_year['sales_m.usd'] = projections\n",
        "\n",
        "# Display the next year's projections\n",
        "print(next_year)"
      ]
    },
    {
      "cell_type": "code",
      "execution_count": null,
      "metadata": {
        "id": "3caDGxaIJgwn"
      },
      "outputs": [],
      "source": [
        "# ... (previous code to generate projections) ...\n",
        "\n",
        "# Create a plot to visualize the trend\n",
        "plt.figure(figsize=(10, 6))\n",
        "plt.plot(next_year['month'], projections, marker='o', linestyle='-')\n",
        "plt.title('Projected Sales Trend for Next Year')\n",
        "plt.xlabel('Month')\n",
        "plt.ylabel('Sales (USD)')\n",
        "plt.xticks(range(1, 13))  # Set x-axis ticks to represent months\n",
        "plt.grid(True)\n",
        "plt.show()"
      ]
    },
    {
      "cell_type": "markdown",
      "metadata": {
        "id": "PRyZf7W7JZ5X"
      },
      "source": [
        " Linear Regression"
      ]
    },
    {
      "cell_type": "code",
      "execution_count": null,
      "metadata": {
        "id": "w8ECVpX8KUHK"
      },
      "outputs": [],
      "source": [
        "# prompt: # prompt: take incomes,returns, type as X and sales_m.usd as y\n",
        "# X = sales_encoded[['incomes', 'returns', 'type','year','month']]\n",
        "# y = sales_encoded['sales_m.usd']\n",
        "# do the regression model\n",
        "\n",
        "from sklearn.linear_model import LinearRegression\n",
        "\n",
        "# Create a Linear Regression model\n",
        "linear_model = LinearRegression()\n",
        "\n",
        "# Train the model\n",
        "linear_model.fit(X_train, y_train)\n",
        "\n",
        "# Make predictions on the test set\n",
        "linear_y_pred = linear_model.predict(X_test)\n",
        "\n",
        "# Calculate evaluation metrics for the linear regression model\n",
        "linear_mse = mean_squared_error(y_test, linear_y_pred)\n",
        "linear_mae = mean_absolute_error(y_test, linear_y_pred)\n",
        "linear_r2 = r2_score(y_test, linear_y_pred)\n",
        "\n",
        "print(f\"Linear Regression - Mean Squared Error (MSE): {linear_mse}\")\n",
        "print(f\"Linear Regression - Mean Absolute Error (MAE): {linear_mae}\")\n",
        "print(f\"Linear Regression - R-squared (R2): {linear_r2}\")\n",
        "\n"
      ]
    },
    {
      "cell_type": "code",
      "execution_count": null,
      "metadata": {
        "id": "RK6jgvdbK7ap"
      },
      "outputs": [],
      "source": [
        "# Create a DataFrame for the next year's projections\n",
        "next_year = pd.DataFrame({\n",
        "    'year': [sales_encoded['year'].max() + 1] * 12,  # Next year's value\n",
        "    'month': list(range(1, 13)),  # Months 1 to 12\n",
        "    'incomes': [sales_encoded['incomes'].mean()] * 12,\n",
        "    'returns': [sales_encoded['returns'].mean()] * 12,\n",
        "    'type': [sales_encoded['type'].mode()[0]] * 12\n",
        "})\n",
        "\n",
        "# Reorder columns to match training data\n",
        "next_year = next_year.reindex(columns=['incomes', 'returns', 'type', 'year', 'month'])\n",
        "\n",
        "# Make predictions for the next year using the linear regression model\n",
        "linear_projections = linear_model.predict(next_year)\n",
        "\n",
        "# Add the linear regression projections to the DataFrame\n",
        "next_year['linear_sales_m.usd'] = linear_projections\n",
        "\n",
        "# Display the next year's projections from the linear regression model\n",
        "print(next_year)\n",
        "\n",
        "#Plot for linear regression\n",
        "plt.figure(figsize=(10, 6))\n",
        "plt.plot(next_year['month'], linear_projections, marker='o', linestyle='-')\n",
        "plt.title('Linear Regression: Projected Sales Trend for Next Year')\n",
        "plt.xlabel('Month')\n",
        "plt.ylabel('Sales (USD)')\n",
        "plt.xticks(range(1, 13))  # Set x-axis ticks to represent months\n",
        "plt.grid(True)\n",
        "plt.show()"
      ]
    },
    {
      "cell_type": "markdown",
      "metadata": {
        "id": "piq5I0AzLOmh"
      },
      "source": [
        "K-Nearest Neighbors (KNN)"
      ]
    },
    {
      "cell_type": "code",
      "execution_count": null,
      "metadata": {
        "id": "fD41bC6LLPM0"
      },
      "outputs": [],
      "source": [
        "# prompt: take incomes,returns, type as X and sales_m.usd as y\n",
        "\n",
        "X = sales_encoded[['incomes', 'returns', 'type','year','month']]\n",
        "y = sales_encoded['sales_m.usd']"
      ]
    },
    {
      "cell_type": "code",
      "execution_count": null,
      "metadata": {
        "id": "yr5IUb1ULaSo"
      },
      "outputs": [],
      "source": [
        "\n",
        "from sklearn.neighbors import KNeighborsRegressor\n",
        "\n",
        "# Split data into training and testing sets\n",
        "X_train, X_test, y_train, y_test = train_test_split(X, y, test_size=0.2, random_state=42)\n",
        "\n",
        "# Create a KNN model (you can adjust the number of neighbors 'n_neighbors')\n",
        "knn_model = KNeighborsRegressor(n_neighbors=5)\n",
        "\n",
        "# Train the model\n",
        "knn_model.fit(X_train, y_train)\n",
        "\n",
        "# Make predictions on the test set\n",
        "knn_y_pred = knn_model.predict(X_test)\n",
        "\n",
        "# Evaluate the KNN model\n",
        "knn_mse = mean_squared_error(y_test, knn_y_pred)\n",
        "knn_mae = mean_absolute_error(y_test, knn_y_pred)\n",
        "knn_r2 = r2_score(y_test, knn_y_pred)\n",
        "\n",
        "print(f\"KNN - Mean Squared Error (MSE): {knn_mse}\")\n",
        "print(f\"KNN - Mean Absolute Error (MAE): {knn_mae}\")\n",
        "print(f\"KNN - R-squared (R2): {knn_r2}\")\n",
        "\n"
      ]
    },
    {
      "cell_type": "code",
      "execution_count": null,
      "metadata": {
        "id": "WhDI0ZF0LlLh"
      },
      "outputs": [],
      "source": [
        "# Predict sales for the next year using the KNN model\n",
        "\n",
        "# Create a DataFrame for the next year's projections\n",
        "next_year = pd.DataFrame({\n",
        "    'year': [sales_encoded['year'].max() + 1] * 12,  # Next year's value\n",
        "    'month': list(range(1, 13)),  # Months 1 to 12\n",
        "    'incomes': [sales_encoded['incomes'].mean()] * 12,\n",
        "    'returns': [sales_encoded['returns'].mean()] * 12,\n",
        "    'type': [sales_encoded['type'].mode()[0]] * 12\n",
        "})\n",
        "\n",
        "# Reorder columns to match training data\n",
        "next_year = next_year.reindex(columns=['incomes', 'returns', 'type', 'year', 'month'])\n",
        "\n",
        "next_year['knn_sales_m.usd'] = knn_model.predict(next_year)\n",
        "print(next_year)\n",
        "\n",
        "#Plot for KNN\n",
        "plt.figure(figsize=(10, 6))\n",
        "plt.plot(next_year['month'], next_year['knn_sales_m.usd'], marker='o', linestyle='-')\n",
        "plt.title('KNN: Projected Sales Trend for Next Year')\n",
        "plt.xlabel('Month')\n",
        "plt.ylabel('Sales (USD)')\n",
        "plt.xticks(range(1, 13))  # Set x-axis ticks to represent months\n",
        "plt.grid(True)\n",
        "plt.show()"
      ]
    },
    {
      "cell_type": "code",
      "execution_count": null,
      "metadata": {
        "id": "DJe_9hIks_VT"
      },
      "outputs": [],
      "source": []
    }
  ],
  "metadata": {
    "colab": {
      "private_outputs": true,
      "provenance": []
    },
    "kernelspec": {
      "display_name": "Python 3",
      "name": "python3"
    },
    "language_info": {
      "name": "python"
    }
  },
  "nbformat": 4,
  "nbformat_minor": 0
}
